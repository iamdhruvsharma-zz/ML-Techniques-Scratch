{
  "nbformat": 4,
  "nbformat_minor": 0,
  "metadata": {
    "colab": {
      "name": "linear_regression.ipynb",
      "provenance": [],
      "collapsed_sections": []
    },
    "kernelspec": {
      "name": "python3",
      "display_name": "Python 3"
    }
  },
  "cells": [
    {
      "cell_type": "code",
      "metadata": {
        "id": "FaUSAHgUqv11",
        "colab_type": "code",
        "colab": {}
      },
      "source": [
        "import numpy as np"
      ],
      "execution_count": 0,
      "outputs": []
    },
    {
      "cell_type": "code",
      "metadata": {
        "id": "6Nn2cOGTswvJ",
        "colab_type": "code",
        "colab": {}
      },
      "source": [
        "x1 = [0.18, 1.0, 0.92, 0.07, 0.85, 0.99, 0.87]\n",
        "x2 = [0.89, 0.26, 0.11, 0.37, 0.16, 0.41, 0.47]\n",
        "y = [109.85, 155.72, 137.66, 76.17, 139.75, 162.6, 151.77]"
      ],
      "execution_count": 0,
      "outputs": []
    },
    {
      "cell_type": "code",
      "metadata": {
        "id": "ASMzEG5AslN8",
        "colab_type": "code",
        "colab": {}
      },
      "source": [
        "X = np.array([x1, x2])\n",
        "X = X.transpose()\n",
        "y = np.array(y)\n",
        "y = y.reshape(y.shape[0], 1)"
      ],
      "execution_count": 0,
      "outputs": []
    },
    {
      "cell_type": "code",
      "metadata": {
        "id": "r2ilEvPf02my",
        "colab_type": "code",
        "colab": {}
      },
      "source": [
        "def cost(w, b, X, y):\n",
        "  y_pred = np.dot(X, w) + b\n",
        "  error = y - y_pred\n",
        "  error = np.power(error, 2)\n",
        "  return sum(error) / len(y)"
      ],
      "execution_count": 0,
      "outputs": []
    },
    {
      "cell_type": "code",
      "metadata": {
        "id": "PUL94mPm3BiV",
        "colab_type": "code",
        "colab": {}
      },
      "source": [
        "def gradW(w, b, X, y):\n",
        "  y_pred = np.dot(X, w) + b\n",
        "  error = y - y_pred\n",
        "  error = np.transpose(error)\n",
        "  return  ((-2 * np.dot(error, X)) / len(y)).transpose();"
      ],
      "execution_count": 0,
      "outputs": []
    },
    {
      "cell_type": "code",
      "metadata": {
        "id": "uZVHfA10Zrr5",
        "colab_type": "code",
        "colab": {}
      },
      "source": [
        "def gradb(w, b, X, y):\n",
        "  y_pred = np.dot(X, w) + b\n",
        "  error = y - y_pred\n",
        "  error = sum(error)\n",
        "  return  -2 * error / len(y)"
      ],
      "execution_count": 0,
      "outputs": []
    },
    {
      "cell_type": "code",
      "metadata": {
        "id": "9ZlIS1m78G-9",
        "colab_type": "code",
        "colab": {}
      },
      "source": [
        "costTest = []"
      ],
      "execution_count": 0,
      "outputs": []
    },
    {
      "cell_type": "code",
      "metadata": {
        "id": "jCv7CP-wbqHb",
        "colab_type": "code",
        "colab": {}
      },
      "source": [
        "w = np.random.normal(size = (2, 1))\n",
        "b = np.random.normal(size = (1, 1))"
      ],
      "execution_count": 0,
      "outputs": []
    },
    {
      "cell_type": "code",
      "metadata": {
        "id": "xSDnd4AO7-qh",
        "colab_type": "code",
        "colab": {}
      },
      "source": [
        "for i in range(0, 30):\n",
        "  \n",
        "  newCost = cost(w, b, X, y)\n",
        "  costTest.append(newCost)\n",
        "  w = w - (0.5 * gradW(w, b, X, y))\n",
        "  b = b - (0.5 * gradb(w, b, X, y))"
      ],
      "execution_count": 0,
      "outputs": []
    },
    {
      "cell_type": "code",
      "metadata": {
        "id": "R2RjWk4OW9fg",
        "colab_type": "code",
        "outputId": "efdc1b6b-467d-4785-f28f-0db0c40fcfc0",
        "colab": {
          "base_uri": "https://localhost:8080/",
          "height": 521
        }
      },
      "source": [
        "costTest"
      ],
      "execution_count": 0,
      "outputs": [
        {
          "output_type": "execute_result",
          "data": {
            "text/plain": [
              "[array([18337.36325216]),\n",
              " array([16.70601656]),\n",
              " array([13.23752588]),\n",
              " array([10.76282485]),\n",
              " array([8.99020061]),\n",
              " array([7.71401637]),\n",
              " array([6.78928479]),\n",
              " array([6.11375398]),\n",
              " array([5.61528646]),\n",
              " array([5.24296703]),\n",
              " array([4.96083766]),\n",
              " array([4.74348336]),\n",
              " array([4.57292198]),\n",
              " array([4.43641269]),\n",
              " array([4.32491176]),\n",
              " array([4.23198434]),\n",
              " array([4.15303748]),\n",
              " array([4.08477965]),\n",
              " array([4.02483962]),\n",
              " array([3.97149777]),\n",
              " array([3.92349664]),\n",
              " array([3.87990722]),\n",
              " array([3.84003456]),\n",
              " array([3.80335117]),\n",
              " array([3.76944986]),\n",
              " array([3.73801043]),\n",
              " array([3.70877603]),\n",
              " array([3.6815364]),\n",
              " array([3.65611591]),\n",
              " array([3.63236506])]"
            ]
          },
          "metadata": {
            "tags": []
          },
          "execution_count": 84
        }
      ]
    },
    {
      "cell_type": "code",
      "metadata": {
        "id": "gvTZC0IseGTR",
        "colab_type": "code",
        "colab": {}
      },
      "source": [
        ""
      ],
      "execution_count": 0,
      "outputs": []
    }
  ]
}